{
 "cells": [
  {
   "cell_type": "markdown",
   "id": "5e618126",
   "metadata": {},
   "source": [
    "9.8.22    SUPPORT VECTOR MACHINE(REGRESSION)"
   ]
  },
  {
   "cell_type": "markdown",
   "id": "d1d4a7bd",
   "metadata": {},
   "source": [
    " STEP1: Importing the Libraies"
   ]
  },
  {
   "cell_type": "code",
   "execution_count": 1,
   "id": "edbca88f",
   "metadata": {},
   "outputs": [],
   "source": [
    "import numpy as np\n",
    "import matplotlib.pyplot as plt\n",
    "import pandas as pd\n"
   ]
  },
  {
   "cell_type": "markdown",
   "id": "c4aae3cc",
   "metadata": {},
   "source": [
    "STEP2: Loding the Dataset"
   ]
  },
  {
   "cell_type": "code",
   "execution_count": 2,
   "id": "a8ed115c",
   "metadata": {},
   "outputs": [],
   "source": [
    "dataset = pd.read_csv('http://raw.githubusercontent.com/RamishaRaniK/dataset/main/insurance_pre.csv')"
   ]
  },
  {
   "cell_type": "code",
   "execution_count": 3,
   "id": "8f032bc3",
   "metadata": {},
   "outputs": [
    {
     "data": {
      "text/html": [
       "<div>\n",
       "<style scoped>\n",
       "    .dataframe tbody tr th:only-of-type {\n",
       "        vertical-align: middle;\n",
       "    }\n",
       "\n",
       "    .dataframe tbody tr th {\n",
       "        vertical-align: top;\n",
       "    }\n",
       "\n",
       "    .dataframe thead th {\n",
       "        text-align: right;\n",
       "    }\n",
       "</style>\n",
       "<table border=\"1\" class=\"dataframe\">\n",
       "  <thead>\n",
       "    <tr style=\"text-align: right;\">\n",
       "      <th></th>\n",
       "      <th>age</th>\n",
       "      <th>sex</th>\n",
       "      <th>bmi</th>\n",
       "      <th>children</th>\n",
       "      <th>smoker</th>\n",
       "      <th>charges</th>\n",
       "    </tr>\n",
       "  </thead>\n",
       "  <tbody>\n",
       "    <tr>\n",
       "      <th>0</th>\n",
       "      <td>19</td>\n",
       "      <td>female</td>\n",
       "      <td>27.900</td>\n",
       "      <td>0</td>\n",
       "      <td>yes</td>\n",
       "      <td>16884.92400</td>\n",
       "    </tr>\n",
       "    <tr>\n",
       "      <th>1</th>\n",
       "      <td>18</td>\n",
       "      <td>male</td>\n",
       "      <td>33.770</td>\n",
       "      <td>1</td>\n",
       "      <td>no</td>\n",
       "      <td>1725.55230</td>\n",
       "    </tr>\n",
       "    <tr>\n",
       "      <th>2</th>\n",
       "      <td>28</td>\n",
       "      <td>male</td>\n",
       "      <td>33.000</td>\n",
       "      <td>3</td>\n",
       "      <td>no</td>\n",
       "      <td>4449.46200</td>\n",
       "    </tr>\n",
       "    <tr>\n",
       "      <th>3</th>\n",
       "      <td>33</td>\n",
       "      <td>male</td>\n",
       "      <td>22.705</td>\n",
       "      <td>0</td>\n",
       "      <td>no</td>\n",
       "      <td>21984.47061</td>\n",
       "    </tr>\n",
       "    <tr>\n",
       "      <th>4</th>\n",
       "      <td>32</td>\n",
       "      <td>male</td>\n",
       "      <td>28.880</td>\n",
       "      <td>0</td>\n",
       "      <td>no</td>\n",
       "      <td>3866.85520</td>\n",
       "    </tr>\n",
       "    <tr>\n",
       "      <th>...</th>\n",
       "      <td>...</td>\n",
       "      <td>...</td>\n",
       "      <td>...</td>\n",
       "      <td>...</td>\n",
       "      <td>...</td>\n",
       "      <td>...</td>\n",
       "    </tr>\n",
       "    <tr>\n",
       "      <th>1333</th>\n",
       "      <td>50</td>\n",
       "      <td>male</td>\n",
       "      <td>30.970</td>\n",
       "      <td>3</td>\n",
       "      <td>no</td>\n",
       "      <td>10600.54830</td>\n",
       "    </tr>\n",
       "    <tr>\n",
       "      <th>1334</th>\n",
       "      <td>18</td>\n",
       "      <td>female</td>\n",
       "      <td>31.920</td>\n",
       "      <td>0</td>\n",
       "      <td>no</td>\n",
       "      <td>2205.98080</td>\n",
       "    </tr>\n",
       "    <tr>\n",
       "      <th>1335</th>\n",
       "      <td>18</td>\n",
       "      <td>female</td>\n",
       "      <td>36.850</td>\n",
       "      <td>0</td>\n",
       "      <td>no</td>\n",
       "      <td>1629.83350</td>\n",
       "    </tr>\n",
       "    <tr>\n",
       "      <th>1336</th>\n",
       "      <td>21</td>\n",
       "      <td>female</td>\n",
       "      <td>25.800</td>\n",
       "      <td>0</td>\n",
       "      <td>no</td>\n",
       "      <td>2007.94500</td>\n",
       "    </tr>\n",
       "    <tr>\n",
       "      <th>1337</th>\n",
       "      <td>61</td>\n",
       "      <td>female</td>\n",
       "      <td>29.070</td>\n",
       "      <td>0</td>\n",
       "      <td>yes</td>\n",
       "      <td>29141.36030</td>\n",
       "    </tr>\n",
       "  </tbody>\n",
       "</table>\n",
       "<p>1338 rows × 6 columns</p>\n",
       "</div>"
      ],
      "text/plain": [
       "      age     sex     bmi  children smoker      charges\n",
       "0      19  female  27.900         0    yes  16884.92400\n",
       "1      18    male  33.770         1     no   1725.55230\n",
       "2      28    male  33.000         3     no   4449.46200\n",
       "3      33    male  22.705         0     no  21984.47061\n",
       "4      32    male  28.880         0     no   3866.85520\n",
       "...   ...     ...     ...       ...    ...          ...\n",
       "1333   50    male  30.970         3     no  10600.54830\n",
       "1334   18  female  31.920         0     no   2205.98080\n",
       "1335   18  female  36.850         0     no   1629.83350\n",
       "1336   21  female  25.800         0     no   2007.94500\n",
       "1337   61  female  29.070         0    yes  29141.36030\n",
       "\n",
       "[1338 rows x 6 columns]"
      ]
     },
     "execution_count": 3,
     "metadata": {},
     "output_type": "execute_result"
    }
   ],
   "source": [
    "dataset"
   ]
  },
  {
   "cell_type": "markdown",
   "id": "45eb33b5",
   "metadata": {},
   "source": [
    "STEP:3 get_dummies() TO CONVERT STRING DATA INTO BYTESTREAM(0'S &1'S)"
   ]
  },
  {
   "cell_type": "code",
   "execution_count": 4,
   "id": "d70db712",
   "metadata": {},
   "outputs": [
    {
     "data": {
      "text/plain": [
       "(1338, 6)"
      ]
     },
     "execution_count": 4,
     "metadata": {},
     "output_type": "execute_result"
    }
   ],
   "source": [
    "dataset.shape"
   ]
  },
  {
   "cell_type": "code",
   "execution_count": 5,
   "id": "9cdd1fad",
   "metadata": {},
   "outputs": [],
   "source": [
    "datasets=pd.get_dummies(dataset,drop_first=True)"
   ]
  },
  {
   "cell_type": "code",
   "execution_count": 6,
   "id": "0a82e72f",
   "metadata": {},
   "outputs": [
    {
     "data": {
      "text/html": [
       "<div>\n",
       "<style scoped>\n",
       "    .dataframe tbody tr th:only-of-type {\n",
       "        vertical-align: middle;\n",
       "    }\n",
       "\n",
       "    .dataframe tbody tr th {\n",
       "        vertical-align: top;\n",
       "    }\n",
       "\n",
       "    .dataframe thead th {\n",
       "        text-align: right;\n",
       "    }\n",
       "</style>\n",
       "<table border=\"1\" class=\"dataframe\">\n",
       "  <thead>\n",
       "    <tr style=\"text-align: right;\">\n",
       "      <th></th>\n",
       "      <th>age</th>\n",
       "      <th>bmi</th>\n",
       "      <th>children</th>\n",
       "      <th>charges</th>\n",
       "      <th>sex_male</th>\n",
       "      <th>smoker_yes</th>\n",
       "    </tr>\n",
       "  </thead>\n",
       "  <tbody>\n",
       "    <tr>\n",
       "      <th>0</th>\n",
       "      <td>19</td>\n",
       "      <td>27.900</td>\n",
       "      <td>0</td>\n",
       "      <td>16884.92400</td>\n",
       "      <td>0</td>\n",
       "      <td>1</td>\n",
       "    </tr>\n",
       "    <tr>\n",
       "      <th>1</th>\n",
       "      <td>18</td>\n",
       "      <td>33.770</td>\n",
       "      <td>1</td>\n",
       "      <td>1725.55230</td>\n",
       "      <td>1</td>\n",
       "      <td>0</td>\n",
       "    </tr>\n",
       "    <tr>\n",
       "      <th>2</th>\n",
       "      <td>28</td>\n",
       "      <td>33.000</td>\n",
       "      <td>3</td>\n",
       "      <td>4449.46200</td>\n",
       "      <td>1</td>\n",
       "      <td>0</td>\n",
       "    </tr>\n",
       "    <tr>\n",
       "      <th>3</th>\n",
       "      <td>33</td>\n",
       "      <td>22.705</td>\n",
       "      <td>0</td>\n",
       "      <td>21984.47061</td>\n",
       "      <td>1</td>\n",
       "      <td>0</td>\n",
       "    </tr>\n",
       "    <tr>\n",
       "      <th>4</th>\n",
       "      <td>32</td>\n",
       "      <td>28.880</td>\n",
       "      <td>0</td>\n",
       "      <td>3866.85520</td>\n",
       "      <td>1</td>\n",
       "      <td>0</td>\n",
       "    </tr>\n",
       "    <tr>\n",
       "      <th>...</th>\n",
       "      <td>...</td>\n",
       "      <td>...</td>\n",
       "      <td>...</td>\n",
       "      <td>...</td>\n",
       "      <td>...</td>\n",
       "      <td>...</td>\n",
       "    </tr>\n",
       "    <tr>\n",
       "      <th>1333</th>\n",
       "      <td>50</td>\n",
       "      <td>30.970</td>\n",
       "      <td>3</td>\n",
       "      <td>10600.54830</td>\n",
       "      <td>1</td>\n",
       "      <td>0</td>\n",
       "    </tr>\n",
       "    <tr>\n",
       "      <th>1334</th>\n",
       "      <td>18</td>\n",
       "      <td>31.920</td>\n",
       "      <td>0</td>\n",
       "      <td>2205.98080</td>\n",
       "      <td>0</td>\n",
       "      <td>0</td>\n",
       "    </tr>\n",
       "    <tr>\n",
       "      <th>1335</th>\n",
       "      <td>18</td>\n",
       "      <td>36.850</td>\n",
       "      <td>0</td>\n",
       "      <td>1629.83350</td>\n",
       "      <td>0</td>\n",
       "      <td>0</td>\n",
       "    </tr>\n",
       "    <tr>\n",
       "      <th>1336</th>\n",
       "      <td>21</td>\n",
       "      <td>25.800</td>\n",
       "      <td>0</td>\n",
       "      <td>2007.94500</td>\n",
       "      <td>0</td>\n",
       "      <td>0</td>\n",
       "    </tr>\n",
       "    <tr>\n",
       "      <th>1337</th>\n",
       "      <td>61</td>\n",
       "      <td>29.070</td>\n",
       "      <td>0</td>\n",
       "      <td>29141.36030</td>\n",
       "      <td>0</td>\n",
       "      <td>1</td>\n",
       "    </tr>\n",
       "  </tbody>\n",
       "</table>\n",
       "<p>1338 rows × 6 columns</p>\n",
       "</div>"
      ],
      "text/plain": [
       "      age     bmi  children      charges  sex_male  smoker_yes\n",
       "0      19  27.900         0  16884.92400         0           1\n",
       "1      18  33.770         1   1725.55230         1           0\n",
       "2      28  33.000         3   4449.46200         1           0\n",
       "3      33  22.705         0  21984.47061         1           0\n",
       "4      32  28.880         0   3866.85520         1           0\n",
       "...   ...     ...       ...          ...       ...         ...\n",
       "1333   50  30.970         3  10600.54830         1           0\n",
       "1334   18  31.920         0   2205.98080         0           0\n",
       "1335   18  36.850         0   1629.83350         0           0\n",
       "1336   21  25.800         0   2007.94500         0           0\n",
       "1337   61  29.070         0  29141.36030         0           1\n",
       "\n",
       "[1338 rows x 6 columns]"
      ]
     },
     "execution_count": 6,
     "metadata": {},
     "output_type": "execute_result"
    }
   ],
   "source": [
    "datasets"
   ]
  },
  {
   "cell_type": "markdown",
   "id": "61a3f99d",
   "metadata": {},
   "source": [
    "STEP:4 ASSINGING INPUT AND OUTPUT DATA"
   ]
  },
  {
   "cell_type": "code",
   "execution_count": 7,
   "id": "488be459",
   "metadata": {},
   "outputs": [
    {
     "data": {
      "text/plain": [
       "Index(['age', 'bmi', 'children', 'charges', 'sex_male', 'smoker_yes'], dtype='object')"
      ]
     },
     "execution_count": 7,
     "metadata": {},
     "output_type": "execute_result"
    }
   ],
   "source": [
    "datasets.columns"
   ]
  },
  {
   "cell_type": "code",
   "execution_count": 8,
   "id": "16c6f5f5",
   "metadata": {},
   "outputs": [],
   "source": [
    "indep=datasets[['age', 'bmi', 'children', 'sex_male', 'smoker_yes']]\n",
    "\n",
    "dep=datasets[['charges']]"
   ]
  },
  {
   "cell_type": "code",
   "execution_count": 9,
   "id": "13cd6f3e",
   "metadata": {},
   "outputs": [
    {
     "data": {
      "text/html": [
       "<div>\n",
       "<style scoped>\n",
       "    .dataframe tbody tr th:only-of-type {\n",
       "        vertical-align: middle;\n",
       "    }\n",
       "\n",
       "    .dataframe tbody tr th {\n",
       "        vertical-align: top;\n",
       "    }\n",
       "\n",
       "    .dataframe thead th {\n",
       "        text-align: right;\n",
       "    }\n",
       "</style>\n",
       "<table border=\"1\" class=\"dataframe\">\n",
       "  <thead>\n",
       "    <tr style=\"text-align: right;\">\n",
       "      <th></th>\n",
       "      <th>age</th>\n",
       "      <th>bmi</th>\n",
       "      <th>children</th>\n",
       "      <th>sex_male</th>\n",
       "      <th>smoker_yes</th>\n",
       "    </tr>\n",
       "  </thead>\n",
       "  <tbody>\n",
       "    <tr>\n",
       "      <th>0</th>\n",
       "      <td>19</td>\n",
       "      <td>27.900</td>\n",
       "      <td>0</td>\n",
       "      <td>0</td>\n",
       "      <td>1</td>\n",
       "    </tr>\n",
       "    <tr>\n",
       "      <th>1</th>\n",
       "      <td>18</td>\n",
       "      <td>33.770</td>\n",
       "      <td>1</td>\n",
       "      <td>1</td>\n",
       "      <td>0</td>\n",
       "    </tr>\n",
       "    <tr>\n",
       "      <th>2</th>\n",
       "      <td>28</td>\n",
       "      <td>33.000</td>\n",
       "      <td>3</td>\n",
       "      <td>1</td>\n",
       "      <td>0</td>\n",
       "    </tr>\n",
       "    <tr>\n",
       "      <th>3</th>\n",
       "      <td>33</td>\n",
       "      <td>22.705</td>\n",
       "      <td>0</td>\n",
       "      <td>1</td>\n",
       "      <td>0</td>\n",
       "    </tr>\n",
       "    <tr>\n",
       "      <th>4</th>\n",
       "      <td>32</td>\n",
       "      <td>28.880</td>\n",
       "      <td>0</td>\n",
       "      <td>1</td>\n",
       "      <td>0</td>\n",
       "    </tr>\n",
       "    <tr>\n",
       "      <th>...</th>\n",
       "      <td>...</td>\n",
       "      <td>...</td>\n",
       "      <td>...</td>\n",
       "      <td>...</td>\n",
       "      <td>...</td>\n",
       "    </tr>\n",
       "    <tr>\n",
       "      <th>1333</th>\n",
       "      <td>50</td>\n",
       "      <td>30.970</td>\n",
       "      <td>3</td>\n",
       "      <td>1</td>\n",
       "      <td>0</td>\n",
       "    </tr>\n",
       "    <tr>\n",
       "      <th>1334</th>\n",
       "      <td>18</td>\n",
       "      <td>31.920</td>\n",
       "      <td>0</td>\n",
       "      <td>0</td>\n",
       "      <td>0</td>\n",
       "    </tr>\n",
       "    <tr>\n",
       "      <th>1335</th>\n",
       "      <td>18</td>\n",
       "      <td>36.850</td>\n",
       "      <td>0</td>\n",
       "      <td>0</td>\n",
       "      <td>0</td>\n",
       "    </tr>\n",
       "    <tr>\n",
       "      <th>1336</th>\n",
       "      <td>21</td>\n",
       "      <td>25.800</td>\n",
       "      <td>0</td>\n",
       "      <td>0</td>\n",
       "      <td>0</td>\n",
       "    </tr>\n",
       "    <tr>\n",
       "      <th>1337</th>\n",
       "      <td>61</td>\n",
       "      <td>29.070</td>\n",
       "      <td>0</td>\n",
       "      <td>0</td>\n",
       "      <td>1</td>\n",
       "    </tr>\n",
       "  </tbody>\n",
       "</table>\n",
       "<p>1338 rows × 5 columns</p>\n",
       "</div>"
      ],
      "text/plain": [
       "      age     bmi  children  sex_male  smoker_yes\n",
       "0      19  27.900         0         0           1\n",
       "1      18  33.770         1         1           0\n",
       "2      28  33.000         3         1           0\n",
       "3      33  22.705         0         1           0\n",
       "4      32  28.880         0         1           0\n",
       "...   ...     ...       ...       ...         ...\n",
       "1333   50  30.970         3         1           0\n",
       "1334   18  31.920         0         0           0\n",
       "1335   18  36.850         0         0           0\n",
       "1336   21  25.800         0         0           0\n",
       "1337   61  29.070         0         0           1\n",
       "\n",
       "[1338 rows x 5 columns]"
      ]
     },
     "execution_count": 9,
     "metadata": {},
     "output_type": "execute_result"
    }
   ],
   "source": [
    "indep"
   ]
  },
  {
   "cell_type": "code",
   "execution_count": 10,
   "id": "daedfdd1",
   "metadata": {},
   "outputs": [
    {
     "data": {
      "text/html": [
       "<div>\n",
       "<style scoped>\n",
       "    .dataframe tbody tr th:only-of-type {\n",
       "        vertical-align: middle;\n",
       "    }\n",
       "\n",
       "    .dataframe tbody tr th {\n",
       "        vertical-align: top;\n",
       "    }\n",
       "\n",
       "    .dataframe thead th {\n",
       "        text-align: right;\n",
       "    }\n",
       "</style>\n",
       "<table border=\"1\" class=\"dataframe\">\n",
       "  <thead>\n",
       "    <tr style=\"text-align: right;\">\n",
       "      <th></th>\n",
       "      <th>charges</th>\n",
       "    </tr>\n",
       "  </thead>\n",
       "  <tbody>\n",
       "    <tr>\n",
       "      <th>0</th>\n",
       "      <td>16884.92400</td>\n",
       "    </tr>\n",
       "    <tr>\n",
       "      <th>1</th>\n",
       "      <td>1725.55230</td>\n",
       "    </tr>\n",
       "    <tr>\n",
       "      <th>2</th>\n",
       "      <td>4449.46200</td>\n",
       "    </tr>\n",
       "    <tr>\n",
       "      <th>3</th>\n",
       "      <td>21984.47061</td>\n",
       "    </tr>\n",
       "    <tr>\n",
       "      <th>4</th>\n",
       "      <td>3866.85520</td>\n",
       "    </tr>\n",
       "    <tr>\n",
       "      <th>...</th>\n",
       "      <td>...</td>\n",
       "    </tr>\n",
       "    <tr>\n",
       "      <th>1333</th>\n",
       "      <td>10600.54830</td>\n",
       "    </tr>\n",
       "    <tr>\n",
       "      <th>1334</th>\n",
       "      <td>2205.98080</td>\n",
       "    </tr>\n",
       "    <tr>\n",
       "      <th>1335</th>\n",
       "      <td>1629.83350</td>\n",
       "    </tr>\n",
       "    <tr>\n",
       "      <th>1336</th>\n",
       "      <td>2007.94500</td>\n",
       "    </tr>\n",
       "    <tr>\n",
       "      <th>1337</th>\n",
       "      <td>29141.36030</td>\n",
       "    </tr>\n",
       "  </tbody>\n",
       "</table>\n",
       "<p>1338 rows × 1 columns</p>\n",
       "</div>"
      ],
      "text/plain": [
       "          charges\n",
       "0     16884.92400\n",
       "1      1725.55230\n",
       "2      4449.46200\n",
       "3     21984.47061\n",
       "4      3866.85520\n",
       "...           ...\n",
       "1333  10600.54830\n",
       "1334   2205.98080\n",
       "1335   1629.83350\n",
       "1336   2007.94500\n",
       "1337  29141.36030\n",
       "\n",
       "[1338 rows x 1 columns]"
      ]
     },
     "execution_count": 10,
     "metadata": {},
     "output_type": "execute_result"
    }
   ],
   "source": [
    "dep"
   ]
  },
  {
   "cell_type": "markdown",
   "id": "9dcc723e",
   "metadata": {},
   "source": [
    "STEP: 5 SPLITING TRAIN/TEST DATA"
   ]
  },
  {
   "cell_type": "code",
   "execution_count": 11,
   "id": "52c5fada",
   "metadata": {},
   "outputs": [],
   "source": [
    "#spliting train /test set\n",
    "from sklearn.model_selection import train_test_split\n",
    "x_train,x_test,y_train,y_test=train_test_split(indep,dep,test_size=1/3,random_state=0)"
   ]
  },
  {
   "cell_type": "markdown",
   "id": "bfcfd75a",
   "metadata": {},
   "source": [
    " STEP:6  MODEL CREATION IN  SUPPORT VECTOR MACHINE"
   ]
  },
  {
   "cell_type": "code",
   "execution_count": 12,
   "id": "9da940e2",
   "metadata": {},
   "outputs": [
    {
     "name": "stderr",
     "output_type": "stream",
     "text": [
      "C:\\Users\\Yaazh\\anaconda3\\envs\\ai\\lib\\site-packages\\sklearn\\utils\\validation.py:993: DataConversionWarning: A column-vector y was passed when a 1d array was expected. Please change the shape of y to (n_samples, ), for example using ravel().\n",
      "  y = column_or_1d(y, warn=True)\n"
     ]
    },
    {
     "data": {
      "text/plain": [
       "SVR(C=12000, kernel='linear')"
      ]
     },
     "execution_count": 12,
     "metadata": {},
     "output_type": "execute_result"
    }
   ],
   "source": [
    "from sklearn.svm import SVR\n",
    "r=SVR(kernel=\"linear\",C=12000)\n",
    "r.fit(x_train,y_train)"
   ]
  },
  {
   "cell_type": "markdown",
   "id": "0685a02b",
   "metadata": {},
   "source": [
    " STEP:8 PREDICTION"
   ]
  },
  {
   "cell_type": "code",
   "execution_count": 13,
   "id": "5a4a31bf",
   "metadata": {},
   "outputs": [],
   "source": [
    "y_pred=r.predict(x_test)"
   ]
  },
  {
   "cell_type": "code",
   "execution_count": 14,
   "id": "6c8fbd65",
   "metadata": {},
   "outputs": [
    {
     "data": {
      "text/plain": [
       "array([10224.80529925,  9225.64639012, 37077.26597064, 12365.24438135,\n",
       "        9624.46797236,  4850.99087508,  1062.34504325, 11271.30584885,\n",
       "        7696.4234843 ,  5518.26874373,  6397.12361219, 10370.75337581,\n",
       "        8177.71122577,  4991.72721702, 30421.52850636, 10830.37993329,\n",
       "       11799.38549618,  3388.49707057,  6915.27787229, 28614.56625586,\n",
       "       37534.07731309, 12122.40115758, 10163.88431873, 36046.31394106,\n",
       "        1938.53084021,  5081.1576494 ,  3517.31853675,  8285.80155845,\n",
       "        4492.70340645,  8795.46561693,  8193.52030692, 39584.51616531,\n",
       "       12609.08238147, 10753.19607976, 29798.92269753,  4274.77267241,\n",
       "        9224.61550299, 31273.58514794, 35134.62452676,  1741.5421085 ,\n",
       "        5690.80360618,  3667.45013003, 33554.62851696, 39648.17982941,\n",
       "       28559.63926449,  2829.26663241, 10823.31431436,  7493.41627059,\n",
       "        4564.71734678, 11758.44873424,  2569.5124966 ,  2616.01235909,\n",
       "       36390.14792957, 38557.27386297, 11989.07875898,  3563.10455556,\n",
       "        3033.14190385,  9195.92697292,  9413.57245435, 12217.47478501,\n",
       "        1035.51502604, 40995.37343712, 13241.85572848, 10158.21612335,\n",
       "       10535.94466629, 10501.82242115, 28340.43174298, 32861.18992023,\n",
       "        2598.24233969,  8315.67664226, 12489.99668481, 11500.52024038,\n",
       "       28542.09014513, 13204.84300359, 12135.9992797 , 12211.25881507,\n",
       "        8048.6449395 ,  8534.82001057, 33767.48585301, 40010.52859111,\n",
       "       11178.41838044, 35380.35036065,  1902.98864172,  8371.06009384,\n",
       "       35215.06451553, 33042.93720712,  3943.39562389,  2939.89715917,\n",
       "       12020.74090393, 31361.58528687,  6255.98405221, 10594.75495227,\n",
       "        3237.46880605,  9081.12130764,  5135.75668542,  5299.79702549,\n",
       "       37883.29228254, 35796.05836292,  5479.50811025, 11082.24971293,\n",
       "        2177.44431859,  6065.18108801,  4689.86334617, 32931.88221028,\n",
       "       35644.03944478,  3341.99561936, 10692.57018318,  3891.58217315,\n",
       "       11495.52261498, 39252.68018766, 11746.42356408,  5117.01993235,\n",
       "        9479.97576069, 28107.2992248 , 39076.07153146,  7907.43747683,\n",
       "        1574.97160517,  9199.99505569, 12226.28615041,  9376.67357467,\n",
       "       36072.86816614,  9895.39084085, 13530.68499239,  5389.72878038,\n",
       "        8391.1456578 ,  4681.37314521, 36427.89753826, 35904.47202067,\n",
       "       39404.69802614,  1739.86997303,  8858.69427185,  1297.33715462,\n",
       "        6870.5221683 ,  9375.31797349, 34425.95610543, 32324.51892705,\n",
       "       34311.19334238, 10313.37199388, 37947.34342424,  2484.1965991 ,\n",
       "        1711.99497894, 10546.47323052, 10004.94649819, 10391.49072775,\n",
       "        5352.47586558, 13450.82210021, 12556.5837001 ,  3155.50396973,\n",
       "         886.81588697, 10652.9588215 ,  6797.18961964, 30713.35993417,\n",
       "       10004.94757814,  1217.26015229,  2030.02088607,  7381.32200847,\n",
       "        2304.80559822,  1203.12891655, 10829.52349454, 10159.13779462,\n",
       "        4491.53043351, 12663.25211796, 12174.64606817, 10163.38870564,\n",
       "        4645.75892256,  4137.53194796, 28500.08391594,  5848.78040309,\n",
       "        4592.59234024,  1351.50010139,  4085.64539361,  4218.25343963,\n",
       "        8612.60812104,  2512.92124079,  4442.60638268,  4402.99502027,\n",
       "        4122.65348877,  6603.35408958, 40178.536749  ,   715.56105225,\n",
       "       11018.36926913,  7103.12512263, 11212.39549846,  3260.2793523 ,\n",
       "        5709.54390939, 39651.60774522,  1894.85247534,  2276.71649501,\n",
       "       13386.48215562, 10258.48574483, 36583.5970622 ,  4094.27609228,\n",
       "        6238.32216771, 35895.40739302,  2772.71040787,  2297.52695098,\n",
       "        6662.66137671,  6502.49842166,  4703.82121344,  4629.20508713,\n",
       "       11142.12571705, 40335.08700197, 11835.20595721, 32679.41084303,\n",
       "        4584.77625805, 36652.819706  ,  3381.07633735,  9890.2187667 ,\n",
       "        6604.84390645,  1077.08516587,  9210.48534728, 12830.39812797,\n",
       "        4964.82034621,  2538.14543569,  7281.80177082,  2246.14063937,\n",
       "        6767.11292645,  5363.24766072, 13206.70100707,  6736.88380712,\n",
       "        6803.93191251,  7812.75919784,  9062.31469198,  2855.06900343,\n",
       "       11800.44817348, 13149.53640469, 12201.40761172, 11631.30156442,\n",
       "        7159.08192043,  2561.06303638,   801.52606909,  8833.39697273,\n",
       "       12110.23193975,  2842.50639828,  5130.86452606,  7772.68833447,\n",
       "        9447.43109777, 29681.98539577,  6470.74604352, 11112.33052732,\n",
       "        6386.27300354, 29974.60428002,  8220.31796219,  7656.42109432,\n",
       "        8675.77725195, 10510.18056736,  2338.06569462,  8277.91453265,\n",
       "        2054.50464848,  7177.7444899 , 31974.22661858, 41213.19032616,\n",
       "        4185.91501471,  3672.79392   ,  1123.36628834,   648.43768249,\n",
       "        8445.99846496,  1287.90954056,  4253.86766182,  3797.33998446,\n",
       "        8996.34068419, 37253.94093981, 39765.5140684 , 13640.13416695,\n",
       "        7273.3444401 , 11346.6422369 , 33038.86017337,  9356.3331595 ,\n",
       "       34861.99449165,   893.37910148, 30716.06758676,  5453.53453141,\n",
       "       12203.44273339,  3762.43903365, 33366.45794108,  5866.05125983,\n",
       "       10096.15936162,  9917.30667625,  1797.53856732, 12653.97071155,\n",
       "       11673.48116248,  5160.16518311, 11913.29181994,  1143.70670349,\n",
       "        6663.9799862 ,  3434.70971968,  8885.42186396, 35350.30819081,\n",
       "        3689.10699325,   701.32276191,  1698.58596624, 40355.06443156,\n",
       "        9336.99126853,  5059.38477971, 11851.47828909, 11408.98050247,\n",
       "       29767.05323323,  7329.72158702,  5729.27594657,  9405.54030218,\n",
       "        1075.98174631,  2188.54298786, 31093.5513099 , 30683.95330264,\n",
       "       12791.6442854 ,  2571.34029928,  3460.82538495,  9149.42907091,\n",
       "        9872.01944806, 28234.40673417, 33409.85321365,  6558.38103588,\n",
       "       28780.32055292,  1416.66361299,  6874.87905381,  5125.80058778,\n",
       "        8699.43173717,  1458.70899493,  7334.04560087, 35489.94162132,\n",
       "        3134.76820626,  3993.99968095,  1245.80412668,  9157.16525846,\n",
       "        4172.67524897, 11579.27292423, 41094.17932195, 31934.19490763,\n",
       "        9454.96567591, 35699.52779014, 12397.39210866,  4592.91242454,\n",
       "        9956.34469136,  3528.91795768, 39780.35394697,  5258.04564728,\n",
       "       12358.10515122,  1365.81936585, 28823.14247935,  3093.44720777,\n",
       "       38753.15917577,  6955.12942429,  2251.60043492, 30428.15695419,\n",
       "        5592.63109942,  5826.65616783, 41052.8211322 ,  1071.91366347,\n",
       "        8616.79004895,  1840.96887133, 11481.81476905,  3459.50785615,\n",
       "        6131.55399288,  5264.2605367 , 37426.87628892,  8931.7078165 ,\n",
       "       33072.69165579, 29710.78206117,  6475.99172984,  8972.1441349 ,\n",
       "        1016.99454299,  3398.30645265,  2254.87623208,  9304.05125659,\n",
       "       38530.12376162, 10991.64846774,  1292.58708151, 11542.70091823,\n",
       "        2058.17738299,  8357.77850642,  4107.69976588,  2377.6368241 ,\n",
       "        3316.9844537 , 28483.99225112,  6648.81843511,   944.04947163,\n",
       "       33671.31718645, 11072.15260938, 37470.62667739, 11247.90482618,\n",
       "        5005.8981135 ,  1881.00953294,  1648.93969275, 10485.94435729,\n",
       "        5656.47867174,  1182.35349189, 10579.93956554,  7649.10525521,\n",
       "        7087.85239567,  4082.17889811,  2425.0955499 , 32251.29127236,\n",
       "        1619.86152436,  9521.30000069,  1316.17201168,  8157.51073655,\n",
       "       11067.26203867,  4016.84309818, 30445.01050298, 10774.17882321,\n",
       "       13594.49645263, 12686.30234613,  1103.02587321,  6762.43075587,\n",
       "       12594.22980304,  7949.71841973,  5552.52736532,  1401.78299375,\n",
       "       28731.10820852, 12269.64443111,  7780.38949031, 12639.70005828,\n",
       "        9367.60107561, 11813.54693269, 40494.77204629,  3214.85199875,\n",
       "        8468.79435064,  1614.8299479 , 13304.44205467,  1711.39339182,\n",
       "        7048.48750539,  1359.31510264, 11927.84340437,  5962.656525  ,\n",
       "       10876.77865042, 36424.18457111,  5906.30495124, 29480.82152649,\n",
       "       32987.97734522, 11348.56922464,  8507.83648717, 30031.0900697 ,\n",
       "        9110.06113923,  3969.2710986 , 10007.12154586, 35315.62921972,\n",
       "       31077.49467631, 31699.98505096,  9558.98329607, 34373.81932982,\n",
       "        3838.02652421, 29293.04629886,  3091.01781809, 29614.60501488,\n",
       "        4765.23672677, 11160.75217423])"
      ]
     },
     "execution_count": 14,
     "metadata": {},
     "output_type": "execute_result"
    }
   ],
   "source": [
    "y_pred"
   ]
  },
  {
   "cell_type": "markdown",
   "id": "0f9cfa4d",
   "metadata": {},
   "source": [
    " STEP:9 EVALUTION METRICS"
   ]
  },
  {
   "cell_type": "code",
   "execution_count": 15,
   "id": "0a933db3",
   "metadata": {},
   "outputs": [],
   "source": [
    "from sklearn.metrics import r2_score\n",
    "r_score=r2_score(y_test,y_pred)"
   ]
  },
  {
   "cell_type": "code",
   "execution_count": 16,
   "id": "49c12d4d",
   "metadata": {},
   "outputs": [
    {
     "data": {
      "text/plain": [
       "0.7613374734861703"
      ]
     },
     "execution_count": 16,
     "metadata": {},
     "output_type": "execute_result"
    }
   ],
   "source": [
    "r_score"
   ]
  },
  {
   "cell_type": "markdown",
   "id": "9c8de838",
   "metadata": {},
   "source": [
    " STEP:10 SAVE THE MODEL IF THE MODEL HAS GOOD R_SCORE VALUE"
   ]
  },
  {
   "cell_type": "code",
   "execution_count": 67,
   "id": "bd55a298",
   "metadata": {},
   "outputs": [],
   "source": [
    "import pickle\n",
    "filename='svm_final.sav'\n",
    "pickle.dump(r,open(filename,\"wb\"))"
   ]
  },
  {
   "cell_type": "code",
   "execution_count": 68,
   "id": "98018b92",
   "metadata": {},
   "outputs": [],
   "source": [
    "model=pickle.load(open(filename,\"rb\"))"
   ]
  },
  {
   "cell_type": "markdown",
   "id": "88467556",
   "metadata": {},
   "source": [
    " STEP :11 DEPLOYMENT\n",
    "         1.Load The saved model\n",
    "         2.Get user Inputs\n",
    "         3.predict\n",
    "         4.show"
   ]
  },
  {
   "cell_type": "markdown",
   "id": "70951ab7",
   "metadata": {},
   "source": [
    "#Load the model"
   ]
  },
  {
   "cell_type": "markdown",
   "id": "288887c0",
   "metadata": {},
   "source": [
    "#GetUserInputs"
   ]
  },
  {
   "cell_type": "code",
   "execution_count": 17,
   "id": "e8fab312",
   "metadata": {},
   "outputs": [
    {
     "name": "stdout",
     "output_type": "stream",
     "text": [
      "AGE:56\n",
      "BMI:45.6\n",
      "CHILDREN: 2\n",
      "SEX MALE 0 OR 1:0\n",
      "SMOKER 0 0R 1:1\n"
     ]
    }
   ],
   "source": [
    "age_input=float(input(\"AGE:\"))\n",
    "bmi_input=float(input(\"BMI:\"))\n",
    "children_input=float(input(\"CHILDREN: \"))\n",
    "sex_input=float(input(\"SEX MALE 0 OR 1:\"))\n",
    "smoker_input=float(input(\"SMOKER 0 0R 1:\"))"
   ]
  },
  {
   "cell_type": "code",
   "execution_count": 18,
   "id": "5a0712af",
   "metadata": {},
   "outputs": [
    {
     "name": "stderr",
     "output_type": "stream",
     "text": [
      "C:\\Users\\Yaazh\\anaconda3\\envs\\ai\\lib\\site-packages\\sklearn\\base.py:451: UserWarning: X does not have valid feature names, but SVR was fitted with feature names\n",
      "  \"X does not have valid feature names, but\"\n"
     ]
    }
   ],
   "source": [
    "futureprediction=r.predict([[age_input,bmi_input,children_input,sex_input,smoker_input]])"
   ]
  },
  {
   "cell_type": "code",
   "execution_count": 19,
   "id": "ab48f672",
   "metadata": {},
   "outputs": [
    {
     "name": "stdout",
     "output_type": "stream",
     "text": [
      "futureprediction:[39646.35202749]\n"
     ]
    }
   ],
   "source": [
    "print(\"futureprediction:{}\".format(futureprediction))"
   ]
  },
  {
   "cell_type": "code",
   "execution_count": null,
   "id": "c3b7d905",
   "metadata": {},
   "outputs": [],
   "source": []
  }
 ],
 "metadata": {
  "kernelspec": {
   "display_name": "Python 3 (ipykernel)",
   "language": "python",
   "name": "python3"
  },
  "language_info": {
   "codemirror_mode": {
    "name": "ipython",
    "version": 3
   },
   "file_extension": ".py",
   "mimetype": "text/x-python",
   "name": "python",
   "nbconvert_exporter": "python",
   "pygments_lexer": "ipython3",
   "version": "3.7.6"
  }
 },
 "nbformat": 4,
 "nbformat_minor": 5
}
